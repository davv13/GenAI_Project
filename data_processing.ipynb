{
 "cells": [
  {
   "cell_type": "code",
   "execution_count": 2,
   "metadata": {},
   "outputs": [],
   "source": [
    "import pandas as pd"
   ]
  },
  {
   "cell_type": "code",
   "execution_count": 3,
   "metadata": {},
   "outputs": [],
   "source": [
    "listing = pd.read_csv('Data/listings.csv')"
   ]
  },
  {
   "cell_type": "code",
   "execution_count": 4,
   "metadata": {},
   "outputs": [],
   "source": [
    "listing = listing[\n",
    "    ['id', 'listing_url',\n",
    "       'description', 'neighborhood_overview', 'host_id',\n",
    "       'host_url', 'host_since', 'host_about',\n",
    "       'host_response_time', 'host_response_rate', 'host_acceptance_rate',\n",
    "       'host_is_superhost', 'host_verifications',\n",
    "       'host_identity_verified', 'neighbourhood',\n",
    "       'neighbourhood_cleansed', 'latitude',\n",
    "       'longitude', 'property_type', 'room_type', 'accommodates', 'bathrooms',\n",
    "       'bathrooms_text', 'bedrooms', 'beds', 'amenities', 'price',\n",
    "       'minimum_nights', 'maximum_nights', \n",
    "       'number_of_reviews', 'review_scores_rating', 'review_scores_accuracy',\n",
    "       'review_scores_cleanliness', 'review_scores_checkin',\n",
    "       'review_scores_communication', 'review_scores_location',\n",
    "       'review_scores_value', 'instant_bookable']\n",
    "]"
   ]
  },
  {
   "cell_type": "code",
   "execution_count": 5,
   "metadata": {},
   "outputs": [
    {
     "data": {
      "text/html": [
       "<div>\n",
       "<style scoped>\n",
       "    .dataframe tbody tr th:only-of-type {\n",
       "        vertical-align: middle;\n",
       "    }\n",
       "\n",
       "    .dataframe tbody tr th {\n",
       "        vertical-align: top;\n",
       "    }\n",
       "\n",
       "    .dataframe thead th {\n",
       "        text-align: right;\n",
       "    }\n",
       "</style>\n",
       "<table border=\"1\" class=\"dataframe\">\n",
       "  <thead>\n",
       "    <tr style=\"text-align: right;\">\n",
       "      <th></th>\n",
       "      <th>id</th>\n",
       "      <th>date</th>\n",
       "      <th>reviewer_name</th>\n",
       "      <th>comments</th>\n",
       "    </tr>\n",
       "  </thead>\n",
       "  <tbody>\n",
       "    <tr>\n",
       "      <th>0</th>\n",
       "      <td>2737</td>\n",
       "      <td>2014-12-26</td>\n",
       "      <td>Raphaell</td>\n",
       "      <td>This spot was in a great and nice area,walking...</td>\n",
       "    </tr>\n",
       "    <tr>\n",
       "      <th>1</th>\n",
       "      <td>2737</td>\n",
       "      <td>2015-01-04</td>\n",
       "      <td>Ia</td>\n",
       "      <td>Elif was really very helpful, while arranging ...</td>\n",
       "    </tr>\n",
       "    <tr>\n",
       "      <th>2</th>\n",
       "      <td>2737</td>\n",
       "      <td>2015-04-12</td>\n",
       "      <td>Julia</td>\n",
       "      <td>Elif's flat is spacious, clean, and had everyt...</td>\n",
       "    </tr>\n",
       "    <tr>\n",
       "      <th>3</th>\n",
       "      <td>2737</td>\n",
       "      <td>2015-04-22</td>\n",
       "      <td>Sevil</td>\n",
       "      <td>I had a wonderful time staying with Elif and h...</td>\n",
       "    </tr>\n",
       "    <tr>\n",
       "      <th>4</th>\n",
       "      <td>2737</td>\n",
       "      <td>2015-05-08</td>\n",
       "      <td>Suzy</td>\n",
       "      <td>Elif was a brilliant host, with an exceptional...</td>\n",
       "    </tr>\n",
       "  </tbody>\n",
       "</table>\n",
       "</div>"
      ],
      "text/plain": [
       "     id        date reviewer_name  \\\n",
       "0  2737  2014-12-26      Raphaell   \n",
       "1  2737  2015-01-04            Ia   \n",
       "2  2737  2015-04-12         Julia   \n",
       "3  2737  2015-04-22         Sevil   \n",
       "4  2737  2015-05-08          Suzy   \n",
       "\n",
       "                                            comments  \n",
       "0  This spot was in a great and nice area,walking...  \n",
       "1  Elif was really very helpful, while arranging ...  \n",
       "2  Elif's flat is spacious, clean, and had everyt...  \n",
       "3  I had a wonderful time staying with Elif and h...  \n",
       "4  Elif was a brilliant host, with an exceptional...  "
      ]
     },
     "execution_count": 5,
     "metadata": {},
     "output_type": "execute_result"
    }
   ],
   "source": [
    "reviews = pd.read_csv('Data/reviews.csv')   \n",
    "reviews.drop(['id', 'reviewer_id'], axis=1, inplace=True)\n",
    "reviews.rename(columns={'listing_id': 'id'}, inplace=True)\n",
    "reviews.head()"
   ]
  },
  {
   "cell_type": "code",
   "execution_count": 28,
   "metadata": {},
   "outputs": [
    {
     "data": {
      "text/plain": [
       "id                       0\n",
       "concatenated_comments    0\n",
       "dtype: int64"
      ]
     },
     "execution_count": 28,
     "metadata": {},
     "output_type": "execute_result"
    }
   ],
   "source": [
    "concatenated_comments = reviews.groupby('id')['comments'].agg(lambda x: '. '.join(x.dropna())).reset_index()\n",
    "concatenated_comments.columns = ['id', 'concatenated_comments']"
   ]
  },
  {
   "cell_type": "code",
   "execution_count": 30,
   "metadata": {},
   "outputs": [],
   "source": [
    "data_merged = pd.merge(concatenated_comments, listing, on='id', how='left')"
   ]
  },
  {
   "cell_type": "code",
   "execution_count": 37,
   "metadata": {},
   "outputs": [],
   "source": [
    "data = data_merged.dropna()"
   ]
  }
 ],
 "metadata": {
  "kernelspec": {
   "display_name": ".venv",
   "language": "python",
   "name": "python3"
  },
  "language_info": {
   "codemirror_mode": {
    "name": "ipython",
    "version": 3
   },
   "file_extension": ".py",
   "mimetype": "text/x-python",
   "name": "python",
   "nbconvert_exporter": "python",
   "pygments_lexer": "ipython3",
   "version": "3.11.9"
  }
 },
 "nbformat": 4,
 "nbformat_minor": 2
}
